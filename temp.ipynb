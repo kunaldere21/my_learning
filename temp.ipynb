{
 "cells": [
  {
   "cell_type": "code",
   "execution_count": 14,
   "id": "cacb4bdc",
   "metadata": {},
   "outputs": [],
   "source": [
    "import os \n",
    "import shutil"
   ]
  },
  {
   "cell_type": "code",
   "execution_count": 15,
   "id": "5ffeddb0",
   "metadata": {},
   "outputs": [],
   "source": [
    "input_path = '/home/dell/Desktop/My_learning/th_keras_tutorial/dogs-vs-cats/train/'\n",
    "output_path = '/home/dell/Desktop/My_learning/th_keras_tutorial/cluster/'"
   ]
  },
  {
   "cell_type": "code",
   "execution_count": 17,
   "id": "4742e062",
   "metadata": {},
   "outputs": [],
   "source": [
    "count = 0\n",
    "for image in os.listdir(path):\n",
    "    class_name = image.split('.')[0]\n",
    "    if class_name == 'cat':\n",
    "        cat_path = os.path.join(output_path,'cat')\n",
    "        os.makedirs(cat_path,exist_ok=True)\n",
    "        shutil.copy(input_path+image,cat_path)\n",
    "        count+=1\n",
    "        if count==300:\n",
    "            break\n",
    "    "
   ]
  },
  {
   "cell_type": "code",
   "execution_count": null,
   "id": "de7c9f5c",
   "metadata": {},
   "outputs": [],
   "source": [
    "\n"
   ]
  }
 ],
 "metadata": {
  "kernelspec": {
   "display_name": "Python 3 (ipykernel)",
   "language": "python",
   "name": "python3"
  },
  "language_info": {
   "codemirror_mode": {
    "name": "ipython",
    "version": 3
   },
   "file_extension": ".py",
   "mimetype": "text/x-python",
   "name": "python",
   "nbconvert_exporter": "python",
   "pygments_lexer": "ipython3",
   "version": "3.9.7"
  }
 },
 "nbformat": 4,
 "nbformat_minor": 5
}
